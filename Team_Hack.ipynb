{
  "cells": [
    {
      "cell_type": "code",
      "execution_count": null,
      "metadata": {
        "id": "HV3WPB4Avf5b"
      },
      "outputs": [],
      "source": [
        "import pandas as pd\n",
        "import numpy as np\n",
        "from sklearn.model_selection import train_test_split\n",
        "from sklearn.preprocessing import StandardScaler\n",
        "from sklearn.metrics import r2_score, mean_squared_error, mean_absolute_error\n",
        "from sklearn.ensemble import StackingRegressor, GradientBoostingRegressor\n",
        "from sklearn.linear_model import RidgeCV\n",
        "from xgboost import XGBRegressor\n",
        "from lightgbm import LGBMRegressor\n",
        "from catboost import CatBoostRegressor\n",
        "import warnings\n",
        "warnings.filterwarnings(\"ignore\")"
      ]
    },
    {
      "cell_type": "code",
      "execution_count": null,
      "metadata": {
        "id": "Dt2deX8Ax123"
      },
      "outputs": [],
      "source": [
        "df = pd.read_csv(\"train.csv\")\n",
        "df.drop(columns=[\"id\", \"Row#\"], inplace=True, errors=\"ignore\")"
      ]
    },
    {
      "cell_type": "code",
      "execution_count": null,
      "metadata": {
        "id": "SPqJNZTwyehC"
      },
      "outputs": [],
      "source": [
        "q1, q3 = df[\"yield\"].quantile([0.25, 0.75])\n",
        "iqr = q3 - q1\n",
        "df = df[(df[\"yield\"] >= q1 - 1.5 * iqr) & (df[\"yield\"] <= q3 + 1.5 * iqr)]"
      ]
    },
    {
      "cell_type": "code",
      "execution_count": null,
      "metadata": {
        "id": "oyOofHmxygqv"
      },
      "outputs": [],
      "source": [
        "df[\"bee_activity\"] = df[\"honeybee\"] + df[\"bumbles\"] + df[\"andrena\"] + df[\"osmia\"]\n",
        "df[\"mass_times_seeds\"] = df[\"fruitmass\"] * df[\"seeds\"]\n",
        "df[\"rain_per_fruit\"] = df[\"AverageRainingDays\"] / (df[\"fruitset\"] + 1e-3)\n",
        "df[\"upper_range_diff\"] = df[\"MaxOfUpperTRange\"] - df[\"MinOfUpperTRange\"]\n",
        "df[\"lower_range_diff\"] = df[\"MaxOfLowerTRange\"] - df[\"MinOfLowerTRange\"]"
      ]
    },
    {
      "cell_type": "code",
      "execution_count": null,
      "metadata": {
        "id": "TCGFIf9YyjBw"
      },
      "outputs": [],
      "source": [
        "target = df[\"yield\"]\n",
        "features = df.drop(columns=\"yield\")\n",
        "correlations = pd.concat([features, target], axis=1).corr()[\"yield\"].abs().sort_values(ascending=False)\n",
        "top_features = correlations[1:20].index.tolist()\n"
      ]
    },
    {
      "cell_type": "code",
      "execution_count": null,
      "metadata": {
        "id": "JnwwmSIpynWg"
      },
      "outputs": [],
      "source": [
        "X = df[top_features]\n",
        "y = df[\"yield\"]\n",
        "scaler = StandardScaler()\n",
        "X_scaled = scaler.fit_transform(X)\n",
        "X_train, X_val, y_train, y_val = train_test_split(X_scaled, y, test_size=0.2, random_state=42)\n"
      ]
    },
    {
      "cell_type": "code",
      "execution_count": null,
      "metadata": {
        "id": "Oq9sYWU_yoww"
      },
      "outputs": [],
      "source": [
        "cat = CatBoostRegressor(iterations=1000, depth=9, learning_rate=0.02, l2_leaf_reg=5, random_state=42, verbose=0)\n",
        "xgb = XGBRegressor(n_estimators=500, learning_rate=0.02, max_depth=7, subsample=0.9, colsample_bytree=0.9, random_state=42, verbosity=0)\n",
        "lgb = LGBMRegressor(n_estimators=500, learning_rate=0.02, max_depth=7, subsample=0.9, colsample_bytree=0.9, random_state=42)\n",
        "gbr = GradientBoostingRegressor(n_estimators=300, learning_rate=0.02, max_depth=5, random_state=42)\n"
      ]
    },
    {
      "cell_type": "code",
      "execution_count": null,
      "metadata": {
        "id": "jYxrOnkvyrS2"
      },
      "outputs": [],
      "source": [
        "stack = StackingRegressor(\n",
        "    estimators=[(\"cat\", cat), (\"xgb\", xgb), (\"lgb\", lgb), (\"gbr\", gbr)],\n",
        "    final_estimator=RidgeCV(alphas=np.logspace(-3, 2, 50)),\n",
        "    n_jobs=-1\n",
        ")\n"
      ]
    },
    {
      "cell_type": "code",
      "execution_count": null,
      "metadata": {
        "id": "DpEbtF5SytKo"
      },
      "outputs": [],
      "source": [
        "stack.fit(X_train, y_train)\n",
        "y_pred = stack.predict(X_val)\n",
        "\n",
        "print(\"R2:\", r2_score(y_val, y_pred))\n",
        "print(\"RMSE:\", np.sqrt(mean_squared_error(y_val, y_pred)))\n",
        "print(\"MAE:\", mean_absolute_error(y_val, y_pred))\n"
      ]
    },
    {
      "cell_type": "code",
      "execution_count": null,
      "metadata": {
        "id": "Pj9f3ObnyzbS"
      },
      "outputs": [],
      "source": [
        "test_df = pd.read_csv(\"test.csv\")\n",
        "test_df[\"bee_activity\"] = test_df[\"honeybee\"] + test_df[\"bumbles\"] + test_df[\"andrena\"] + test_df[\"osmia\"]\n",
        "test_df[\"mass_times_seeds\"] = test_df[\"fruitmass\"] * test_df[\"seeds\"]\n",
        "test_df[\"rain_per_fruit\"] = test_df[\"AverageRainingDays\"] / (test_df[\"fruitset\"] + 1e-3)\n",
        "test_df[\"upper_range_diff\"] = test_df[\"MaxOfUpperTRange\"] - test_df[\"MinOfUpperTRange\"]\n",
        "test_df[\"lower_range_diff\"] = test_df[\"MaxOfLowerTRange\"] - test_df[\"MinOfLowerTRange\"]\n",
        "\n",
        "test_scaled = scaler.transform(test_df[top_features])\n",
        "predictions = stack.predict(test_scaled)\n"
      ]
    },
    {
      "cell_type": "code",
      "execution_count": null,
      "metadata": {
        "id": "WVnko05Qy6On"
      },
      "outputs": [],
      "source": [
        "submission = pd.DataFrame({\"id\": test_df[\"id\"], \"target\": predictions})\n",
        "submission.to_csv(\"Submission.csv\", index=False)\n",
        "print(\"Karman_Singh_2023362.csv created!\")\n"
      ]
    }
  ],
  "metadata": {
    "colab": {
      "authorship_tag": "ABX9TyNIJ+YGrH+VBpSiy223jMtG",
      "include_colab_link": true,
      "provenance": []
    },
    "kernelspec": {
      "display_name": "Python 3",
      "name": "python3"
    },
    "language_info": {
      "name": "python"
    }
  },
  "nbformat": 4,
  "nbformat_minor": 0
}
