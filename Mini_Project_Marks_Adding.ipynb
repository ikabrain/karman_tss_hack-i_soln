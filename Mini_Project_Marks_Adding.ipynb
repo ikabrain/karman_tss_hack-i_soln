{
  "nbformat": 4,
  "nbformat_minor": 0,
  "metadata": {
    "colab": {
      "provenance": [],
      "authorship_tag": "ABX9TyOBJZJD3keFVc1vLU5ufDCX",
      "include_colab_link": true
    },
    "kernelspec": {
      "name": "python3",
      "display_name": "Python 3"
    },
    "language_info": {
      "name": "python"
    }
  },
  "cells": [
    {
      "cell_type": "markdown",
      "metadata": {
        "id": "view-in-github",
        "colab_type": "text"
      },
      "source": [
        "<a href=\"https://colab.research.google.com/github/karman07/thapar_summer_school/blob/master/Mini_Project_Marks_Adding.ipynb\" target=\"_parent\"><img src=\"https://colab.research.google.com/assets/colab-badge.svg\" alt=\"Open In Colab\"/></a>"
      ]
    },
    {
      "cell_type": "code",
      "execution_count": 4,
      "metadata": {
        "colab": {
          "base_uri": "https://localhost:8080/"
        },
        "id": "HFmySvPE4r1F",
        "outputId": "cf1800e6-e316-4f1a-b0bd-1ec41308e7aa"
      },
      "outputs": [
        {
          "output_type": "stream",
          "name": "stdout",
          "text": [
            "Grouped marks written to 'output.txt' successfully.\n"
          ]
        }
      ],
      "source": [
        "import pandas as pd\n",
        "\n",
        "input_csv = \"Mini Project - Marks Adding (1).csv\"\n",
        "output_file = \"output.txt\"\n",
        "\n",
        "def calculate_grouped_total_marks(input_csv, output_file):\n",
        "    try:\n",
        "\n",
        "        df = pd.read_csv(input_csv)\n",
        "\n",
        "        grouped_df = df.groupby('Roll Num', as_index=False)['Marks'].sum()\n",
        "\n",
        "        marks_dict = dict(zip(grouped_df['Roll Num'], grouped_df['Marks']))\n",
        "\n",
        "        total_marks = sum(marks_dict.values())\n",
        "\n",
        "        with open(output_file, 'w') as file:\n",
        "            file.write(\"Roll Number - Total Marks\\n\")\n",
        "            file.write(\"--------------------------\\n\")\n",
        "            for roll, marks in marks_dict.items():\n",
        "                file.write(f\"{roll} - {marks}\\n\")\n",
        "            file.write(\"--------------------------\\n\")\n",
        "            file.write(f\"Total Marks: {total_marks}\\n\")\n",
        "\n",
        "        print(f\"Grouped marks written to '{output_file}' successfully.\")\n",
        "\n",
        "    except FileNotFoundError:\n",
        "        print(f\"Input file '{input_csv}' not found.\")\n",
        "    except Exception as e:\n",
        "        print(f\"An error occurred: {e}\")\n",
        "\n",
        "\n",
        "calculate_grouped_total_marks(input_csv, output_file)\n"
      ]
    },
    {
      "cell_type": "code",
      "source": [],
      "metadata": {
        "id": "4iszmcIj5A2o"
      },
      "execution_count": null,
      "outputs": []
    }
  ]
}